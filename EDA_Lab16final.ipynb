{
  "nbformat": 4,
  "nbformat_minor": 0,
  "metadata": {
    "colab": {
      "provenance": [],
      "authorship_tag": "ABX9TyNttAIPvSDT1w4c9Qy8afdX"
    },
    "kernelspec": {
      "name": "python3",
      "display_name": "Python 3"
    },
    "language_info": {
      "name": "python"
    }
  },
  "cells": [
    {
      "cell_type": "markdown",
      "source": [
        "# Lab 16 (For Individual Evaluation)\n",
        "\n",
        "1. Take a dataset from a domain of your choice from a well-known repository. Comment about the source in the code file.\n",
        "\n",
        "A: The source code is well-organized and easy to read. The functions are well-named and the comments are clear and concise.\n",
        "Data and the code is well sectioned.\n",
        "The code uses a consistent coding style. This makes it easier to read and understand the code.\n",
        "The code is well-documented. The comments provide a good overview of what the code does and how it works.\n",
        "Different"
      ],
      "metadata": {
        "id": "MvIT6g4OJASc"
      }
    },
    {
      "cell_type": "markdown",
      "source": [
        "2. Pre-process the data (if required) by removing null values (if any), encoders, standard scaling, discretization, or binning."
      ],
      "metadata": {
        "id": "xXBVTX2CJH0F"
      }
    },
    {
      "cell_type": "code",
      "source": [
        "import numpy as np\n",
        "import pandas as pd\n",
        "from sklearn.datasets import load_iris\n",
        "from sklearn.model_selection import train_test_split\n",
        "from sklearn.decomposition import PCA\n",
        "from sklearn.preprocessing import StandardScaler\n",
        "from sklearn.linear_model import LogisticRegression\n",
        "from sklearn.metrics import classification_report\n",
        "from sklearn.model_selection import cross_val_score"
      ],
      "metadata": {
        "id": "Qdoix5xdHOQe"
      },
      "execution_count": 23,
      "outputs": []
    },
    {
      "cell_type": "code",
      "execution_count": 25,
      "metadata": {
        "id": "YdzszXxnG8C-"
      },
      "outputs": [],
      "source": [
        "import numpy as np\n",
        "from sklearn.datasets import fetch_california_housing\n",
        "\n",
        "# Load the California housing data\n",
        "housing = fetch_california_housing()\n",
        "\n",
        "# Get the number of samples in the data\n",
        "n_samples = housing.data.shape[0]\n",
        "\n",
        "# Set the number of samples you want to take\n",
        "n_samples_to_take = 100\n",
        "\n",
        "# Randomly sample 1000 samples from the data\n",
        "indices = np.random.choice(n_samples, n_samples_to_take, replace=False)\n",
        "\n",
        "# Get the data for the 1000 samples\n",
        "X = housing.data[indices, :]\n",
        "y = housing.target[indices]\n",
        "\n"
      ]
    },
    {
      "cell_type": "code",
      "source": [
        "X"
      ],
      "metadata": {
        "colab": {
          "base_uri": "https://localhost:8080/"
        },
        "id": "7JHIVVvsZJeK",
        "outputId": "390e8878-1f95-4192-f822-730fdb8ed1b1"
      },
      "execution_count": 42,
      "outputs": [
        {
          "output_type": "execute_result",
          "data": {
            "text/plain": [
              "array([[ 2.69590000e+00,  2.10000000e+01,  3.75761773e+00,\n",
              "         1.01246537e+00,  1.95200000e+03,  2.70360111e+00,\n",
              "         3.37800000e+01, -1.17860000e+02],\n",
              "       [ 2.19440000e+00,  2.70000000e+01,  4.02000000e+00,\n",
              "         1.03428571e+00,  1.68400000e+03,  4.81142857e+00,\n",
              "         3.40500000e+01, -1.17640000e+02],\n",
              "       [ 2.29460000e+00,  3.40000000e+01,  4.16171617e+00,\n",
              "         1.03960396e+00,  1.02700000e+03,  3.38943894e+00,\n",
              "         3.39500000e+01, -1.18270000e+02],\n",
              "       [ 6.78510000e+00,  4.50000000e+01,  6.95774648e+00,\n",
              "         1.02347418e+00,  1.06700000e+03,  2.50469484e+00,\n",
              "         3.78100000e+01, -1.22200000e+02],\n",
              "       [ 3.21710000e+00,  1.60000000e+01,  4.87198068e+00,\n",
              "         1.02173913e+00,  1.17700000e+03,  2.84299517e+00,\n",
              "         3.94400000e+01, -1.23790000e+02],\n",
              "       [ 1.98350000e+00,  4.30000000e+01,  2.57817590e+00,\n",
              "         1.07166124e+00,  1.94100000e+03,  3.16123779e+00,\n",
              "         3.40900000e+01, -1.18290000e+02],\n",
              "       [ 4.20650000e+00,  5.20000000e+01,  5.68264840e+00,\n",
              "         9.97716895e-01,  1.10100000e+03,  2.51369863e+00,\n",
              "         3.41600000e+01, -1.18110000e+02],\n",
              "       [ 3.48440000e+00,  2.80000000e+01,  5.18018018e+00,\n",
              "         9.43693694e-01,  1.31200000e+03,  2.95495495e+00,\n",
              "         3.40800000e+01, -1.17420000e+02],\n",
              "       [ 4.00830000e+00,  3.70000000e+01,  4.98965517e+00,\n",
              "         1.06551724e+00,  1.27900000e+03,  4.41034483e+00,\n",
              "         3.41300000e+01, -1.17980000e+02],\n",
              "       [ 5.10230000e+00,  2.50000000e+01,  5.83366733e+00,\n",
              "         1.06813627e+00,  1.13700000e+03,  2.27855711e+00,\n",
              "         3.28600000e+01, -1.17250000e+02],\n",
              "       [ 2.67050000e+00,  2.60000000e+01,  6.18534483e+00,\n",
              "         1.00862069e+00,  5.44000000e+02,  2.34482759e+00,\n",
              "         4.05500000e+01, -1.22370000e+02],\n",
              "       [ 2.79170000e+00,  4.90000000e+01,  5.12886598e+00,\n",
              "         9.48453608e-01,  4.62000000e+02,  2.38144330e+00,\n",
              "         3.40400000e+01, -1.18360000e+02],\n",
              "       [ 4.38990000e+00,  3.30000000e+01,  4.81215470e+00,\n",
              "         1.03499079e+00,  3.15000000e+03,  5.80110497e+00,\n",
              "         3.37200000e+01, -1.17900000e+02],\n",
              "       [ 6.21520000e+00,  1.30000000e+01,  5.54605263e+00,\n",
              "         1.03289474e+00,  9.18000000e+02,  6.03947368e+00,\n",
              "         3.27900000e+01, -1.16660000e+02],\n",
              "       [ 8.75890000e+00,  3.20000000e+01,  6.89534884e+00,\n",
              "         9.34108527e-01,  7.21000000e+02,  2.79457364e+00,\n",
              "         3.78900000e+01, -1.22160000e+02],\n",
              "       [ 3.06850000e+00,  3.30000000e+01,  4.15586690e+00,\n",
              "         9.66725044e-01,  1.67300000e+03,  2.92994746e+00,\n",
              "         3.38700000e+01, -1.18150000e+02],\n",
              "       [ 3.66670000e+00,  4.50000000e+01,  5.89140271e+00,\n",
              "         1.02714932e+00,  9.88000000e+02,  2.23529412e+00,\n",
              "         3.79700000e+01, -1.21310000e+02],\n",
              "       [ 2.69610000e+00,  1.90000000e+01,  4.20460705e+00,\n",
              "         1.24390244e+00,  2.03300000e+03,  2.75474255e+00,\n",
              "         3.39300000e+01, -1.18360000e+02],\n",
              "       [ 3.17110000e+00,  3.90000000e+01,  5.68398268e+00,\n",
              "         1.32467532e+00,  5.75000000e+02,  2.48917749e+00,\n",
              "         3.80100000e+01, -1.22110000e+02],\n",
              "       [ 3.75960000e+00,  3.60000000e+01,  4.49784792e+00,\n",
              "         1.07030129e+00,  1.81500000e+03,  2.60401722e+00,\n",
              "         3.37100000e+01, -1.18290000e+02],\n",
              "       [ 1.87500000e+00,  3.20000000e+01,  9.16111111e+00,\n",
              "         3.41111111e+00,  7.63000000e+02,  2.11944444e+00,\n",
              "         3.42200000e+01, -1.16140000e+02],\n",
              "       [ 3.80000000e+00,  3.60000000e+01,  4.60146699e+00,\n",
              "         1.10757946e+00,  1.00500000e+03,  2.45721271e+00,\n",
              "         3.42600000e+01, -1.18310000e+02],\n",
              "       [ 4.34090000e+00,  3.90000000e+01,  5.15223881e+00,\n",
              "         9.94029851e-01,  8.92000000e+02,  2.66268657e+00,\n",
              "         3.40900000e+01, -1.17900000e+02],\n",
              "       [ 4.80000000e+00,  3.60000000e+01,  6.39622642e+00,\n",
              "         1.03773585e+00,  4.07000000e+02,  2.55974843e+00,\n",
              "         3.76200000e+01, -1.22420000e+02],\n",
              "       [ 3.80380000e+00,  2.20000000e+01,  4.57432432e+00,\n",
              "         1.07347973e+00,  2.26000000e+03,  1.90878378e+00,\n",
              "         3.37200000e+01, -1.18050000e+02],\n",
              "       [ 1.02980000e+00,  2.00000000e+01,  2.39846743e+00,\n",
              "         8.12260536e-01,  3.57400000e+03,  1.36934866e+01,\n",
              "         3.53200000e+01, -1.20650000e+02],\n",
              "       [ 3.55560000e+00,  3.30000000e+01,  4.95185996e+00,\n",
              "         1.11816193e+00,  1.62600000e+03,  3.55798687e+00,\n",
              "         3.39300000e+01, -1.18080000e+02],\n",
              "       [ 3.13000000e+00,  1.80000000e+01,  5.82945736e+00,\n",
              "         1.38372093e+00,  6.60000000e+02,  2.55813953e+00,\n",
              "         4.18800000e+01, -1.23830000e+02],\n",
              "       [ 2.65310000e+00,  2.90000000e+01,  5.12742981e+00,\n",
              "         1.21382289e+00,  1.61700000e+03,  3.49244060e+00,\n",
              "         3.49600000e+01, -1.20440000e+02],\n",
              "       [ 3.56380000e+00,  3.50000000e+01,  4.70145631e+00,\n",
              "         1.06553398e+00,  1.52300000e+03,  3.69660194e+00,\n",
              "         3.41200000e+01, -1.18210000e+02],\n",
              "       [ 3.04950000e+00,  1.60000000e+01,  5.41387283e+00,\n",
              "         1.07398844e+00,  3.07300000e+03,  3.55260116e+00,\n",
              "         3.25900000e+01, -1.17050000e+02],\n",
              "       [ 3.23750000e+00,  2.50000000e+01,  3.39252336e+00,\n",
              "         1.28037383e+00,  4.11000000e+02,  1.92056075e+00,\n",
              "         3.61400000e+01, -1.21620000e+02],\n",
              "       [ 7.75720000e+00,  5.20000000e+01,  7.07024793e+00,\n",
              "         1.01239669e+00,  6.71000000e+02,  2.77272727e+00,\n",
              "         3.40300000e+01, -1.18500000e+02],\n",
              "       [ 2.72010000e+00,  1.70000000e+01,  5.62611807e+00,\n",
              "         1.11091234e+00,  1.43200000e+03,  2.56171735e+00,\n",
              "         3.87500000e+01, -1.20630000e+02],\n",
              "       [ 3.80470000e+00,  1.30000000e+01,  4.07974138e+00,\n",
              "         1.04956897e+00,  1.01800000e+03,  2.19396552e+00,\n",
              "         3.72600000e+01, -1.21880000e+02],\n",
              "       [ 2.62500000e+00,  4.20000000e+01,  4.15277778e+00,\n",
              "         1.02083333e+00,  3.12000000e+02,  2.16666667e+00,\n",
              "         3.41000000e+01, -1.18250000e+02],\n",
              "       [ 2.92920000e+00,  2.90000000e+01,  4.50574713e+00,\n",
              "         9.54022989e-01,  1.68100000e+03,  3.86436782e+00,\n",
              "         3.40900000e+01, -1.17330000e+02],\n",
              "       [ 5.28790000e+00,  1.20000000e+01,  5.41059603e+00,\n",
              "         1.00662252e+00,  3.43600000e+03,  3.25070956e+00,\n",
              "         3.75700000e+01, -1.22040000e+02],\n",
              "       [ 5.37550000e+00,  2.00000000e+01,  7.09375000e+00,\n",
              "         1.03125000e+00,  6.01000000e+02,  2.68303571e+00,\n",
              "         3.81300000e+01, -1.22590000e+02],\n",
              "       [ 6.07580000e+00,  4.00000000e+00,  6.52036199e+00,\n",
              "         1.16892911e+00,  1.47900000e+03,  2.23076923e+00,\n",
              "         3.41200000e+01, -1.17630000e+02],\n",
              "       [ 7.78480000e+00,  1.90000000e+01,  7.35849057e+00,\n",
              "         1.20156466e+00,  5.17500000e+03,  2.38150023e+00,\n",
              "         3.40200000e+01, -1.18880000e+02],\n",
              "       [ 4.23610000e+00,  3.50000000e+01,  5.34097421e+00,\n",
              "         1.02292264e+00,  1.18900000e+03,  3.40687679e+00,\n",
              "         3.76800000e+01, -1.21760000e+02],\n",
              "       [ 1.05941000e+01,  1.80000000e+01,  7.53703704e+00,\n",
              "         9.48148148e-01,  1.58000000e+03,  2.92592593e+00,\n",
              "         3.53400000e+01, -1.19080000e+02],\n",
              "       [ 3.23500000e+00,  1.20000000e+01,  6.09465021e+00,\n",
              "         1.09053498e+00,  7.57000000e+02,  3.11522634e+00,\n",
              "         3.36400000e+01, -1.17190000e+02],\n",
              "       [ 5.31000000e+00,  1.50000000e+01,  7.16808511e+00,\n",
              "         1.06170213e+00,  1.73300000e+03,  3.68723404e+00,\n",
              "         3.85700000e+01, -1.21320000e+02],\n",
              "       [ 5.92250000e+00,  1.80000000e+01,  6.27021696e+00,\n",
              "         1.03747535e+00,  1.66300000e+03,  3.28007890e+00,\n",
              "         3.72300000e+01, -1.21800000e+02],\n",
              "       [ 3.57810000e+00,  3.70000000e+01,  4.82817503e+00,\n",
              "         1.07257204e+00,  2.09900000e+03,  2.24012807e+00,\n",
              "         3.41700000e+01, -1.18230000e+02],\n",
              "       [ 4.08820000e+00,  1.60000000e+01,  5.85135135e+00,\n",
              "         1.06949807e+00,  1.30100000e+03,  2.51158301e+00,\n",
              "         3.34100000e+01, -1.17190000e+02],\n",
              "       [ 3.04910000e+00,  3.40000000e+01,  4.49872123e+00,\n",
              "         1.10230179e+00,  1.28200000e+03,  3.27877238e+00,\n",
              "         3.39700000e+01, -1.18040000e+02],\n",
              "       [ 6.27810000e+00,  1.70000000e+01,  6.78779841e+00,\n",
              "         9.81432361e-01,  1.23800000e+03,  3.28381963e+00,\n",
              "         3.77500000e+01, -1.21940000e+02],\n",
              "       [ 3.07710000e+00,  2.80000000e+01,  4.72796935e+00,\n",
              "         9.69348659e-01,  1.35300000e+03,  2.59195402e+00,\n",
              "         3.26200000e+01, -1.17080000e+02],\n",
              "       [ 1.60230000e+00,  3.50000000e+01,  6.32352941e+00,\n",
              "         1.32352941e+00,  1.00000000e+02,  2.94117647e+00,\n",
              "         3.79500000e+01, -1.22370000e+02],\n",
              "       [ 1.50860000e+00,  1.20000000e+01,  3.98365123e+00,\n",
              "         9.70027248e-01,  1.70800000e+03,  4.65395095e+00,\n",
              "         3.62100000e+01, -1.20100000e+02],\n",
              "       [ 6.30540000e+00,  1.40000000e+01,  7.03921569e+00,\n",
              "         9.83193277e-01,  1.15100000e+03,  3.22408964e+00,\n",
              "         3.33000000e+01, -1.17250000e+02],\n",
              "       [ 5.57370000e+00,  3.50000000e+01,  5.43037975e+00,\n",
              "         9.87341772e-01,  9.14000000e+02,  2.89240506e+00,\n",
              "         3.75600000e+01, -1.22020000e+02],\n",
              "       [ 1.46250000e+00,  4.30000000e+01,  5.14400000e+00,\n",
              "         1.16000000e+00,  2.40000000e+03,  3.84000000e+00,\n",
              "         3.85300000e+01, -1.21470000e+02],\n",
              "       [ 3.30260000e+00,  9.00000000e+00,  5.37054264e+00,\n",
              "         1.16124031e+00,  1.68700000e+03,  2.61550388e+00,\n",
              "         3.27500000e+01, -1.17070000e+02],\n",
              "       [ 4.86460000e+00,  3.60000000e+01,  5.48897059e+00,\n",
              "         1.04779412e+00,  7.66000000e+02,  2.81617647e+00,\n",
              "         3.42200000e+01, -1.18510000e+02],\n",
              "       [ 2.36110000e+00,  5.20000000e+01,  2.36000000e+00,\n",
              "         7.86666667e-01,  2.69000000e+02,  3.58666667e+00,\n",
              "         3.40700000e+01, -1.18040000e+02],\n",
              "       [ 4.38160000e+00,  2.80000000e+01,  4.87146530e+00,\n",
              "         1.07969152e+00,  1.42200000e+03,  3.65552699e+00,\n",
              "         3.37900000e+01, -1.18280000e+02],\n",
              "       [ 3.09170000e+00,  3.80000000e+01,  4.62053571e+00,\n",
              "         1.10267857e+00,  5.99000000e+02,  2.67410714e+00,\n",
              "         3.76700000e+01, -1.22110000e+02],\n",
              "       [ 3.66250000e+00,  3.30000000e+01,  5.22471910e+00,\n",
              "         1.01573034e+00,  1.17000000e+03,  2.62921348e+00,\n",
              "         3.40800000e+01, -1.17910000e+02],\n",
              "       [ 6.02520000e+00,  1.50000000e+01,  7.95821727e+00,\n",
              "         1.03899721e+00,  1.32500000e+03,  3.69080780e+00,\n",
              "         3.83400000e+01, -1.21960000e+02],\n",
              "       [ 6.16480000e+00,  3.50000000e+01,  5.85057471e+00,\n",
              "         9.71264368e-01,  4.84000000e+02,  2.78160920e+00,\n",
              "         3.72500000e+01, -1.21960000e+02],\n",
              "       [ 2.08330000e+00,  2.00000000e+01,  4.31125828e+00,\n",
              "         1.03973510e+00,  4.21000000e+02,  2.78807947e+00,\n",
              "         3.77700000e+01, -1.20850000e+02],\n",
              "       [ 2.91070000e+00,  7.00000000e+00,  5.54545455e+00,\n",
              "         1.09848485e+00,  4.31000000e+02,  3.26515152e+00,\n",
              "         3.40600000e+01, -1.17700000e+02],\n",
              "       [ 3.24650000e+00,  5.00000000e+00,  4.74437628e+00,\n",
              "         1.02658487e+00,  1.24500000e+03,  2.54601227e+00,\n",
              "         3.91100000e+01, -1.21620000e+02],\n",
              "       [ 5.51480000e+00,  1.50000000e+01,  5.70678337e+00,\n",
              "         1.00218818e+00,  1.53100000e+03,  3.35010941e+00,\n",
              "         3.68900000e+01, -1.21660000e+02],\n",
              "       [ 2.63240000e+00,  3.50000000e+01,  4.17374517e+00,\n",
              "         1.02702703e+00,  6.91000000e+02,  2.66795367e+00,\n",
              "         3.27900000e+01, -1.16960000e+02],\n",
              "       [ 2.29370000e+00,  2.50000000e+01,  5.18626431e+00,\n",
              "         1.07075963e+00,  2.41400000e+03,  2.51196670e+00,\n",
              "         3.63100000e+01, -1.19790000e+02],\n",
              "       [ 3.56250000e+00,  1.50000000e+01,  1.66117647e+01,\n",
              "         2.95294118e+00,  7.03000000e+02,  2.75686275e+00,\n",
              "         3.42500000e+01, -1.17170000e+02],\n",
              "       [ 6.39600000e+00,  3.50000000e+01,  5.86363636e+00,\n",
              "         9.82954545e-01,  4.53000000e+02,  2.57386364e+00,\n",
              "         3.76200000e+01, -1.22040000e+02],\n",
              "       [ 2.02000000e+00,  4.20000000e+01,  2.93115318e+00,\n",
              "         1.00860585e+00,  2.49000000e+03,  4.28571429e+00,\n",
              "         3.40500000e+01, -1.18200000e+02],\n",
              "       [ 7.38410000e+00,  4.00000000e+01,  6.69841270e+00,\n",
              "         1.00000000e+00,  1.58000000e+02,  2.50793651e+00,\n",
              "         3.76500000e+01, -1.20980000e+02],\n",
              "       [ 5.33210000e+00,  7.00000000e+00,  7.83052434e+00,\n",
              "         1.23033708e+00,  3.90700000e+03,  3.65823970e+00,\n",
              "         3.77300000e+01, -1.21440000e+02],\n",
              "       [ 1.75420000e+00,  3.10000000e+01,  3.15972222e+00,\n",
              "         1.14305556e+00,  2.18900000e+03,  3.04027778e+00,\n",
              "         3.40800000e+01, -1.18310000e+02],\n",
              "       [ 2.21480000e+00,  3.80000000e+01,  3.51609658e+00,\n",
              "         1.10663984e+00,  1.93900000e+03,  1.95070423e+00,\n",
              "         3.41100000e+01, -1.18330000e+02],\n",
              "       [ 2.64290000e+00,  4.70000000e+01,  4.09375000e+00,\n",
              "         1.08593750e+00,  7.90000000e+02,  2.05729167e+00,\n",
              "         3.44300000e+01, -1.19710000e+02],\n",
              "       [ 3.02780000e+00,  3.50000000e+01,  4.05357143e+00,\n",
              "         1.01388889e+00,  1.08900000e+03,  2.16071429e+00,\n",
              "         3.75300000e+01, -1.22290000e+02],\n",
              "       [ 8.05950000e+00,  1.70000000e+01,  8.18840580e+00,\n",
              "         1.05797101e+00,  1.05200000e+03,  3.04927536e+00,\n",
              "         3.72200000e+01, -1.21870000e+02],\n",
              "       [ 2.58330000e+00,  2.60000000e+01,  5.05511811e+00,\n",
              "         9.40944882e-01,  8.20000000e+02,  3.22834646e+00,\n",
              "         3.69000000e+01, -1.19980000e+02],\n",
              "       [ 7.35220000e+00,  2.60000000e+01,  6.51653944e+00,\n",
              "         9.87277354e-01,  1.16500000e+03,  2.96437659e+00,\n",
              "         3.72400000e+01, -1.21940000e+02],\n",
              "       [ 3.60830000e+00,  3.80000000e+01,  5.68472906e+00,\n",
              "         1.04679803e+00,  1.27200000e+03,  3.13300493e+00,\n",
              "         3.82800000e+01, -1.22290000e+02],\n",
              "       [ 3.76790000e+00,  3.90000000e+01,  4.51724138e+00,\n",
              "         1.15448276e+00,  1.13700000e+03,  1.56827586e+00,\n",
              "         3.78100000e+01, -1.22430000e+02],\n",
              "       [ 9.70370000e+00,  8.00000000e+00,  8.94675926e+00,\n",
              "         1.07175926e+00,  1.54800000e+03,  3.58333333e+00,\n",
              "         3.77600000e+01, -1.21960000e+02],\n",
              "       [ 2.22970000e+00,  3.50000000e+01,  2.58100559e+00,\n",
              "         9.74860335e-01,  1.37600000e+03,  3.84357542e+00,\n",
              "         3.39500000e+01, -1.18370000e+02],\n",
              "       [ 4.97500000e+00,  1.00000000e+01,  4.70873786e+00,\n",
              "         1.08009709e+00,  7.63000000e+02,  1.85194175e+00,\n",
              "         3.41000000e+01, -1.18180000e+02],\n",
              "       [ 4.14710000e+00,  3.70000000e+01,  5.43558282e+00,\n",
              "         9.84662577e-01,  9.34000000e+02,  2.86503067e+00,\n",
              "         3.39500000e+01, -1.18030000e+02],\n",
              "       [ 1.72500000e+00,  5.20000000e+01,  5.09623431e+00,\n",
              "         1.13179916e+00,  1.01500000e+03,  2.12343096e+00,\n",
              "         3.78400000e+01, -1.22270000e+02],\n",
              "       [ 4.05560000e+00,  2.00000000e+01,  4.40576923e+00,\n",
              "         1.08076923e+00,  2.32500000e+03,  2.23557692e+00,\n",
              "         3.76500000e+01, -1.22530000e+02],\n",
              "       [ 2.36250000e+00,  4.00000000e+01,  6.27272727e+00,\n",
              "         1.17272727e+00,  3.05000000e+02,  2.77272727e+00,\n",
              "         3.96700000e+01, -1.20240000e+02],\n",
              "       [ 2.88460000e+00,  4.90000000e+01,  3.85714286e+00,\n",
              "         1.05142857e+00,  7.07000000e+02,  2.02000000e+00,\n",
              "         3.78700000e+01, -1.22270000e+02],\n",
              "       [ 2.14960000e+00,  1.60000000e+01,  5.39817629e+00,\n",
              "         1.06990881e+00,  1.80100000e+03,  2.73708207e+00,\n",
              "         4.04700000e+01, -1.22430000e+02],\n",
              "       [ 6.35380000e+00,  4.90000000e+01,  6.29388560e+00,\n",
              "         1.01775148e+00,  1.14800000e+03,  2.26429980e+00,\n",
              "         3.79000000e+01, -1.22280000e+02],\n",
              "       [ 3.99090000e+00,  1.40000000e+01,  4.60830325e+00,\n",
              "         1.08935018e+00,  2.73800000e+03,  2.47111913e+00,\n",
              "         3.75400000e+01, -1.21960000e+02],\n",
              "       [ 6.61360000e+00,  3.90000000e+01,  5.89162562e+00,\n",
              "         1.03448276e+00,  9.37000000e+02,  2.30788177e+00,\n",
              "         3.74300000e+01, -1.22190000e+02],\n",
              "       [ 2.53310000e+00,  3.10000000e+01,  4.09667674e+00,\n",
              "         9.78851964e-01,  1.30100000e+03,  3.93051360e+00,\n",
              "         3.31100000e+01, -1.17080000e+02],\n",
              "       [ 3.70140000e+00,  2.40000000e+01,  5.49340866e+00,\n",
              "         1.02259887e+00,  1.87800000e+03,  3.53672316e+00,\n",
              "         3.81500000e+01, -1.22250000e+02],\n",
              "       [ 7.67090000e+00,  1.70000000e+01,  7.69137931e+00,\n",
              "         1.00862069e+00,  2.09500000e+03,  3.61206897e+00,\n",
              "         3.37200000e+01, -1.17930000e+02],\n",
              "       [ 2.53570000e+00,  3.30000000e+01,  5.58510638e+00,\n",
              "         1.15602837e+00,  8.79000000e+02,  3.11702128e+00,\n",
              "         3.40000000e+01, -1.17060000e+02]])"
            ]
          },
          "metadata": {},
          "execution_count": 42
        }
      ]
    },
    {
      "cell_type": "code",
      "source": [
        "housing"
      ],
      "metadata": {
        "colab": {
          "base_uri": "https://localhost:8080/"
        },
        "id": "U8w4b_twZSui",
        "outputId": "a8740239-868a-4de6-a258-b9648f19d3c5"
      },
      "execution_count": 43,
      "outputs": [
        {
          "output_type": "execute_result",
          "data": {
            "text/plain": [
              "{'data': array([[   8.3252    ,   41.        ,    6.98412698, ...,    2.55555556,\n",
              "           37.88      , -122.23      ],\n",
              "        [   8.3014    ,   21.        ,    6.23813708, ...,    2.10984183,\n",
              "           37.86      , -122.22      ],\n",
              "        [   7.2574    ,   52.        ,    8.28813559, ...,    2.80225989,\n",
              "           37.85      , -122.24      ],\n",
              "        ...,\n",
              "        [   1.7       ,   17.        ,    5.20554273, ...,    2.3256351 ,\n",
              "           39.43      , -121.22      ],\n",
              "        [   1.8672    ,   18.        ,    5.32951289, ...,    2.12320917,\n",
              "           39.43      , -121.32      ],\n",
              "        [   2.3886    ,   16.        ,    5.25471698, ...,    2.61698113,\n",
              "           39.37      , -121.24      ]]),\n",
              " 'target': array([4.526, 3.585, 3.521, ..., 0.923, 0.847, 0.894]),\n",
              " 'frame': None,\n",
              " 'target_names': ['MedHouseVal'],\n",
              " 'feature_names': ['MedInc',\n",
              "  'HouseAge',\n",
              "  'AveRooms',\n",
              "  'AveBedrms',\n",
              "  'Population',\n",
              "  'AveOccup',\n",
              "  'Latitude',\n",
              "  'Longitude'],\n",
              " 'DESCR': '.. _california_housing_dataset:\\n\\nCalifornia Housing dataset\\n--------------------------\\n\\n**Data Set Characteristics:**\\n\\n    :Number of Instances: 20640\\n\\n    :Number of Attributes: 8 numeric, predictive attributes and the target\\n\\n    :Attribute Information:\\n        - MedInc        median income in block group\\n        - HouseAge      median house age in block group\\n        - AveRooms      average number of rooms per household\\n        - AveBedrms     average number of bedrooms per household\\n        - Population    block group population\\n        - AveOccup      average number of household members\\n        - Latitude      block group latitude\\n        - Longitude     block group longitude\\n\\n    :Missing Attribute Values: None\\n\\nThis dataset was obtained from the StatLib repository.\\nhttps://www.dcc.fc.up.pt/~ltorgo/Regression/cal_housing.html\\n\\nThe target variable is the median house value for California districts,\\nexpressed in hundreds of thousands of dollars ($100,000).\\n\\nThis dataset was derived from the 1990 U.S. census, using one row per census\\nblock group. A block group is the smallest geographical unit for which the U.S.\\nCensus Bureau publishes sample data (a block group typically has a population\\nof 600 to 3,000 people).\\n\\nA household is a group of people residing within a home. Since the average\\nnumber of rooms and bedrooms in this dataset are provided per household, these\\ncolumns may take surprisingly large values for block groups with few households\\nand many empty houses, such as vacation resorts.\\n\\nIt can be downloaded/loaded using the\\n:func:`sklearn.datasets.fetch_california_housing` function.\\n\\n.. topic:: References\\n\\n    - Pace, R. Kelley and Ronald Barry, Sparse Spatial Autoregressions,\\n      Statistics and Probability Letters, 33 (1997) 291-297\\n'}"
            ]
          },
          "metadata": {},
          "execution_count": 43
        }
      ]
    },
    {
      "cell_type": "code",
      "source": [
        "from sklearn.preprocessing import LabelEncoder\n",
        "\n",
        "label_encoder = LabelEncoder()\n",
        "y_train_encoded = label_encoder.fit_transform(y_train)"
      ],
      "metadata": {
        "id": "r1qplNbBHlkm"
      },
      "execution_count": 37,
      "outputs": []
    },
    {
      "cell_type": "code",
      "source": [
        "from sklearn.preprocessing import LabelEncoder\n",
        "\n",
        "label_encoder = LabelEncoder()\n",
        "y_test_encoded = label_encoder.fit_transform(y_test)"
      ],
      "metadata": {
        "id": "pFszxlvtEl28"
      },
      "execution_count": 36,
      "outputs": []
    },
    {
      "cell_type": "code",
      "source": [
        "from sklearn.preprocessing import LabelEncoder\n",
        "\n",
        "label_encoder = LabelEncoder()\n",
        "y_train_no_outliers_encoded = label_encoder.fit_transform(y_train_no_outliers)\n",
        "\n",
        "y_pred_no_outliers_encoded=label_encoder.fit_transform(y_pred_no_outliers)"
      ],
      "metadata": {
        "id": "MmnAZVKrIcpU"
      },
      "execution_count": 35,
      "outputs": []
    },
    {
      "cell_type": "markdown",
      "source": [
        "3. Split the data into training set and test set."
      ],
      "metadata": {
        "id": "KdQtv_JIJk7B"
      }
    },
    {
      "cell_type": "code",
      "source": [
        "X_train, X_test, y_train, y_test = train_test_split(X, y, test_size=0.2, random_state=42)"
      ],
      "metadata": {
        "id": "oHVmasBrHZd-"
      },
      "execution_count": 26,
      "outputs": []
    },
    {
      "cell_type": "code",
      "source": [
        "scaler = StandardScaler()\n",
        "X_train_scaled = scaler.fit_transform(X_train)\n",
        "X_test_scaled = scaler.transform(X_test)"
      ],
      "metadata": {
        "id": "IK3tVpoeHX5Q"
      },
      "execution_count": 27,
      "outputs": []
    },
    {
      "cell_type": "markdown",
      "source": [
        "4. Apply PCA on the data."
      ],
      "metadata": {
        "id": "K7x8K4RUJzkJ"
      }
    },
    {
      "cell_type": "code",
      "source": [
        "pca = PCA(n_components=2)\n",
        "X_train_pca = pca.fit_transform(X_train_scaled)\n",
        "X_test_pca = pca.transform(X_test_scaled)"
      ],
      "metadata": {
        "id": "3MligjlIHfgt"
      },
      "execution_count": 28,
      "outputs": []
    },
    {
      "cell_type": "markdown",
      "source": [
        "5. To the reduced dataset, apply any ML algorithm."
      ],
      "metadata": {
        "id": "5quXm4b-J1mr"
      }
    },
    {
      "cell_type": "code",
      "source": [
        "model = LogisticRegression()\n",
        "model.fit(X_train_pca, y_train_encoded)"
      ],
      "metadata": {
        "colab": {
          "base_uri": "https://localhost:8080/",
          "height": 74
        },
        "id": "7zndxXHTHhaN",
        "outputId": "9abad467-3666-41a2-cf9d-6af5a4d097c4"
      },
      "execution_count": 29,
      "outputs": [
        {
          "output_type": "execute_result",
          "data": {
            "text/plain": [
              "LogisticRegression()"
            ],
            "text/html": [
              "<style>#sk-container-id-2 {color: black;background-color: white;}#sk-container-id-2 pre{padding: 0;}#sk-container-id-2 div.sk-toggleable {background-color: white;}#sk-container-id-2 label.sk-toggleable__label {cursor: pointer;display: block;width: 100%;margin-bottom: 0;padding: 0.3em;box-sizing: border-box;text-align: center;}#sk-container-id-2 label.sk-toggleable__label-arrow:before {content: \"▸\";float: left;margin-right: 0.25em;color: #696969;}#sk-container-id-2 label.sk-toggleable__label-arrow:hover:before {color: black;}#sk-container-id-2 div.sk-estimator:hover label.sk-toggleable__label-arrow:before {color: black;}#sk-container-id-2 div.sk-toggleable__content {max-height: 0;max-width: 0;overflow: hidden;text-align: left;background-color: #f0f8ff;}#sk-container-id-2 div.sk-toggleable__content pre {margin: 0.2em;color: black;border-radius: 0.25em;background-color: #f0f8ff;}#sk-container-id-2 input.sk-toggleable__control:checked~div.sk-toggleable__content {max-height: 200px;max-width: 100%;overflow: auto;}#sk-container-id-2 input.sk-toggleable__control:checked~label.sk-toggleable__label-arrow:before {content: \"▾\";}#sk-container-id-2 div.sk-estimator input.sk-toggleable__control:checked~label.sk-toggleable__label {background-color: #d4ebff;}#sk-container-id-2 div.sk-label input.sk-toggleable__control:checked~label.sk-toggleable__label {background-color: #d4ebff;}#sk-container-id-2 input.sk-hidden--visually {border: 0;clip: rect(1px 1px 1px 1px);clip: rect(1px, 1px, 1px, 1px);height: 1px;margin: -1px;overflow: hidden;padding: 0;position: absolute;width: 1px;}#sk-container-id-2 div.sk-estimator {font-family: monospace;background-color: #f0f8ff;border: 1px dotted black;border-radius: 0.25em;box-sizing: border-box;margin-bottom: 0.5em;}#sk-container-id-2 div.sk-estimator:hover {background-color: #d4ebff;}#sk-container-id-2 div.sk-parallel-item::after {content: \"\";width: 100%;border-bottom: 1px solid gray;flex-grow: 1;}#sk-container-id-2 div.sk-label:hover label.sk-toggleable__label {background-color: #d4ebff;}#sk-container-id-2 div.sk-serial::before {content: \"\";position: absolute;border-left: 1px solid gray;box-sizing: border-box;top: 0;bottom: 0;left: 50%;z-index: 0;}#sk-container-id-2 div.sk-serial {display: flex;flex-direction: column;align-items: center;background-color: white;padding-right: 0.2em;padding-left: 0.2em;position: relative;}#sk-container-id-2 div.sk-item {position: relative;z-index: 1;}#sk-container-id-2 div.sk-parallel {display: flex;align-items: stretch;justify-content: center;background-color: white;position: relative;}#sk-container-id-2 div.sk-item::before, #sk-container-id-2 div.sk-parallel-item::before {content: \"\";position: absolute;border-left: 1px solid gray;box-sizing: border-box;top: 0;bottom: 0;left: 50%;z-index: -1;}#sk-container-id-2 div.sk-parallel-item {display: flex;flex-direction: column;z-index: 1;position: relative;background-color: white;}#sk-container-id-2 div.sk-parallel-item:first-child::after {align-self: flex-end;width: 50%;}#sk-container-id-2 div.sk-parallel-item:last-child::after {align-self: flex-start;width: 50%;}#sk-container-id-2 div.sk-parallel-item:only-child::after {width: 0;}#sk-container-id-2 div.sk-dashed-wrapped {border: 1px dashed gray;margin: 0 0.4em 0.5em 0.4em;box-sizing: border-box;padding-bottom: 0.4em;background-color: white;}#sk-container-id-2 div.sk-label label {font-family: monospace;font-weight: bold;display: inline-block;line-height: 1.2em;}#sk-container-id-2 div.sk-label-container {text-align: center;}#sk-container-id-2 div.sk-container {/* jupyter's `normalize.less` sets `[hidden] { display: none; }` but bootstrap.min.css set `[hidden] { display: none !important; }` so we also need the `!important` here to be able to override the default hidden behavior on the sphinx rendered scikit-learn.org. See: https://github.com/scikit-learn/scikit-learn/issues/21755 */display: inline-block !important;position: relative;}#sk-container-id-2 div.sk-text-repr-fallback {display: none;}</style><div id=\"sk-container-id-2\" class=\"sk-top-container\"><div class=\"sk-text-repr-fallback\"><pre>LogisticRegression()</pre><b>In a Jupyter environment, please rerun this cell to show the HTML representation or trust the notebook. <br />On GitHub, the HTML representation is unable to render, please try loading this page with nbviewer.org.</b></div><div class=\"sk-container\" hidden><div class=\"sk-item\"><div class=\"sk-estimator sk-toggleable\"><input class=\"sk-toggleable__control sk-hidden--visually\" id=\"sk-estimator-id-2\" type=\"checkbox\" checked><label for=\"sk-estimator-id-2\" class=\"sk-toggleable__label sk-toggleable__label-arrow\">LogisticRegression</label><div class=\"sk-toggleable__content\"><pre>LogisticRegression()</pre></div></div></div></div></div>"
            ]
          },
          "metadata": {},
          "execution_count": 29
        }
      ]
    },
    {
      "cell_type": "markdown",
      "source": [
        "6. Use cross validation to check for best score."
      ],
      "metadata": {
        "id": "laozbj0hJ6Iz"
      }
    },
    {
      "cell_type": "code",
      "source": [
        "scores = cross_val_score(model, X_train_pca, y_train_encoded, cv=2)"
      ],
      "metadata": {
        "colab": {
          "base_uri": "https://localhost:8080/"
        },
        "id": "UDd1rfRwHu1_",
        "outputId": "e4938517-e86c-4442-a945-e7099e4acc18"
      },
      "execution_count": 30,
      "outputs": [
        {
          "output_type": "stream",
          "name": "stderr",
          "text": [
            "/usr/local/lib/python3.10/dist-packages/sklearn/model_selection/_split.py:700: UserWarning: The least populated class in y has only 1 members, which is less than n_splits=2.\n",
            "  warnings.warn(\n"
          ]
        }
      ]
    },
    {
      "cell_type": "markdown",
      "source": [
        "7. Generate and analyse the classification report."
      ],
      "metadata": {
        "id": "4HY61lTFKEaR"
      }
    },
    {
      "cell_type": "code",
      "source": [
        "y_pred = model.predict(X_test_pca)\n",
        "classification_report_pca = classification_report(y_test_encoded, y_pred)\n",
        "print(\"Classification Report (PCA):\")\n",
        "print(classification_report_pca)"
      ],
      "metadata": {
        "colab": {
          "base_uri": "https://localhost:8080/"
        },
        "id": "ph6H5G8CHqSb",
        "outputId": "28f85678-9630-487a-eb81-0e607311cb08"
      },
      "execution_count": 38,
      "outputs": [
        {
          "output_type": "stream",
          "name": "stdout",
          "text": [
            "Classification Report (PCA):\n",
            "              precision    recall  f1-score   support\n",
            "\n",
            "           0       0.00      0.00      0.00       1.0\n",
            "           1       0.00      0.00      0.00       1.0\n",
            "           2       0.00      0.00      0.00       1.0\n",
            "           3       0.00      0.00      0.00       1.0\n",
            "           4       0.00      0.00      0.00       1.0\n",
            "           5       0.00      0.00      0.00       1.0\n",
            "           6       0.00      0.00      0.00       1.0\n",
            "           7       0.00      0.00      0.00       1.0\n",
            "           8       0.00      0.00      0.00       1.0\n",
            "           9       0.00      0.00      0.00       1.0\n",
            "          10       0.00      0.00      0.00       1.0\n",
            "          11       0.00      0.00      0.00       1.0\n",
            "          12       0.00      0.00      0.00       1.0\n",
            "          13       0.00      0.00      0.00       1.0\n",
            "          14       0.00      0.00      0.00       1.0\n",
            "          15       0.00      0.00      0.00       1.0\n",
            "          16       0.00      0.00      0.00       1.0\n",
            "          17       0.00      0.00      0.00       1.0\n",
            "          18       0.00      0.00      0.00       1.0\n",
            "          19       0.00      0.00      0.00       1.0\n",
            "          33       0.00      0.00      0.00       0.0\n",
            "          38       0.00      0.00      0.00       0.0\n",
            "          40       0.00      0.00      0.00       0.0\n",
            "          70       0.00      0.00      0.00       0.0\n",
            "          76       0.00      0.00      0.00       0.0\n",
            "\n",
            "    accuracy                           0.00      20.0\n",
            "   macro avg       0.00      0.00      0.00      20.0\n",
            "weighted avg       0.00      0.00      0.00      20.0\n",
            "\n"
          ]
        },
        {
          "output_type": "stream",
          "name": "stderr",
          "text": [
            "/usr/local/lib/python3.10/dist-packages/sklearn/metrics/_classification.py:1344: UndefinedMetricWarning: Precision and F-score are ill-defined and being set to 0.0 in labels with no predicted samples. Use `zero_division` parameter to control this behavior.\n",
            "  _warn_prf(average, modifier, msg_start, len(result))\n",
            "/usr/local/lib/python3.10/dist-packages/sklearn/metrics/_classification.py:1344: UndefinedMetricWarning: Recall and F-score are ill-defined and being set to 0.0 in labels with no true samples. Use `zero_division` parameter to control this behavior.\n",
            "  _warn_prf(average, modifier, msg_start, len(result))\n",
            "/usr/local/lib/python3.10/dist-packages/sklearn/metrics/_classification.py:1344: UndefinedMetricWarning: Precision and F-score are ill-defined and being set to 0.0 in labels with no predicted samples. Use `zero_division` parameter to control this behavior.\n",
            "  _warn_prf(average, modifier, msg_start, len(result))\n",
            "/usr/local/lib/python3.10/dist-packages/sklearn/metrics/_classification.py:1344: UndefinedMetricWarning: Recall and F-score are ill-defined and being set to 0.0 in labels with no true samples. Use `zero_division` parameter to control this behavior.\n",
            "  _warn_prf(average, modifier, msg_start, len(result))\n",
            "/usr/local/lib/python3.10/dist-packages/sklearn/metrics/_classification.py:1344: UndefinedMetricWarning: Precision and F-score are ill-defined and being set to 0.0 in labels with no predicted samples. Use `zero_division` parameter to control this behavior.\n",
            "  _warn_prf(average, modifier, msg_start, len(result))\n",
            "/usr/local/lib/python3.10/dist-packages/sklearn/metrics/_classification.py:1344: UndefinedMetricWarning: Recall and F-score are ill-defined and being set to 0.0 in labels with no true samples. Use `zero_division` parameter to control this behavior.\n",
            "  _warn_prf(average, modifier, msg_start, len(result))\n"
          ]
        }
      ]
    },
    {
      "cell_type": "markdown",
      "source": [
        "8. Check if there is a change in the accuracy and other metrics (precision, recall) with and without applying PCA on the dataset."
      ],
      "metadata": {
        "id": "NcZTLKiJKIed"
      }
    },
    {
      "cell_type": "code",
      "source": [
        "model_no_pca = LogisticRegression()\n",
        "model_no_pca.fit(X_train_scaled, y_train_encoded)\n",
        "y_pred_no_pca = model_no_pca.predict(X_test_scaled)\n",
        "classification_report_no_pca = classification_report(y_test_encoded, y_pred_no_pca)\n",
        "print(\"Classification Report (No PCA):\")\n",
        "print(classification_report_no_pca)"
      ],
      "metadata": {
        "colab": {
          "base_uri": "https://localhost:8080/"
        },
        "id": "1w2hP8ojIAt8",
        "outputId": "9dcbb932-22a1-4488-daf6-61d4279d311e"
      },
      "execution_count": 39,
      "outputs": [
        {
          "output_type": "stream",
          "name": "stdout",
          "text": [
            "Classification Report (No PCA):\n",
            "              precision    recall  f1-score   support\n",
            "\n",
            "           0       0.00      0.00      0.00       1.0\n",
            "           1       0.00      0.00      0.00       1.0\n",
            "           2       0.00      0.00      0.00       1.0\n",
            "           3       0.00      0.00      0.00       1.0\n",
            "           4       0.00      0.00      0.00       1.0\n",
            "           5       0.00      0.00      0.00       1.0\n",
            "           6       0.00      0.00      0.00       1.0\n",
            "           7       0.00      0.00      0.00       1.0\n",
            "           8       0.00      0.00      0.00       1.0\n",
            "           9       0.00      0.00      0.00       1.0\n",
            "          10       0.00      0.00      0.00       1.0\n",
            "          11       0.00      0.00      0.00       1.0\n",
            "          12       0.00      0.00      0.00       1.0\n",
            "          13       0.00      0.00      0.00       1.0\n",
            "          14       0.00      0.00      0.00       1.0\n",
            "          15       0.00      0.00      0.00       1.0\n",
            "          16       0.00      0.00      0.00       1.0\n",
            "          17       0.00      0.00      0.00       1.0\n",
            "          18       0.00      0.00      0.00       1.0\n",
            "          19       0.00      0.00      0.00       1.0\n",
            "          26       0.00      0.00      0.00       0.0\n",
            "          29       0.00      0.00      0.00       0.0\n",
            "          39       0.00      0.00      0.00       0.0\n",
            "          43       0.00      0.00      0.00       0.0\n",
            "          44       0.00      0.00      0.00       0.0\n",
            "          47       0.00      0.00      0.00       0.0\n",
            "          48       0.00      0.00      0.00       0.0\n",
            "          54       0.00      0.00      0.00       0.0\n",
            "          61       0.00      0.00      0.00       0.0\n",
            "          72       0.00      0.00      0.00       0.0\n",
            "          75       0.00      0.00      0.00       0.0\n",
            "\n",
            "    accuracy                           0.00      20.0\n",
            "   macro avg       0.00      0.00      0.00      20.0\n",
            "weighted avg       0.00      0.00      0.00      20.0\n",
            "\n"
          ]
        },
        {
          "output_type": "stream",
          "name": "stderr",
          "text": [
            "/usr/local/lib/python3.10/dist-packages/sklearn/metrics/_classification.py:1344: UndefinedMetricWarning: Precision and F-score are ill-defined and being set to 0.0 in labels with no predicted samples. Use `zero_division` parameter to control this behavior.\n",
            "  _warn_prf(average, modifier, msg_start, len(result))\n",
            "/usr/local/lib/python3.10/dist-packages/sklearn/metrics/_classification.py:1344: UndefinedMetricWarning: Recall and F-score are ill-defined and being set to 0.0 in labels with no true samples. Use `zero_division` parameter to control this behavior.\n",
            "  _warn_prf(average, modifier, msg_start, len(result))\n",
            "/usr/local/lib/python3.10/dist-packages/sklearn/metrics/_classification.py:1344: UndefinedMetricWarning: Precision and F-score are ill-defined and being set to 0.0 in labels with no predicted samples. Use `zero_division` parameter to control this behavior.\n",
            "  _warn_prf(average, modifier, msg_start, len(result))\n",
            "/usr/local/lib/python3.10/dist-packages/sklearn/metrics/_classification.py:1344: UndefinedMetricWarning: Recall and F-score are ill-defined and being set to 0.0 in labels with no true samples. Use `zero_division` parameter to control this behavior.\n",
            "  _warn_prf(average, modifier, msg_start, len(result))\n",
            "/usr/local/lib/python3.10/dist-packages/sklearn/metrics/_classification.py:1344: UndefinedMetricWarning: Precision and F-score are ill-defined and being set to 0.0 in labels with no predicted samples. Use `zero_division` parameter to control this behavior.\n",
            "  _warn_prf(average, modifier, msg_start, len(result))\n",
            "/usr/local/lib/python3.10/dist-packages/sklearn/metrics/_classification.py:1344: UndefinedMetricWarning: Recall and F-score are ill-defined and being set to 0.0 in labels with no true samples. Use `zero_division` parameter to control this behavior.\n",
            "  _warn_prf(average, modifier, msg_start, len(result))\n"
          ]
        }
      ]
    },
    {
      "cell_type": "markdown",
      "source": [
        "9. Check if there is a change in the accuracy and other metrics (precision, recall) with and without normalizing the dataset."
      ],
      "metadata": {
        "id": "TrTVHZYHKWca"
      }
    },
    {
      "cell_type": "code",
      "source": [
        "model_no_scaling = LogisticRegression()\n",
        "model_no_scaling.fit(X_train, y_train_encoded)\n",
        "y_pred_no_scaling = model_no_scaling.predict(X_test)\n",
        "classification_report_no_scaling = classification_report(y_test_encoded, y_pred_no_scaling)\n",
        "print(\"Classification Report (No Scaling):\")\n",
        "print(classification_report_no_scaling)"
      ],
      "metadata": {
        "colab": {
          "base_uri": "https://localhost:8080/"
        },
        "id": "A7rmbVeSIJW_",
        "outputId": "b4bd3cf4-5473-4956-a49f-c1dc049ba238"
      },
      "execution_count": 40,
      "outputs": [
        {
          "output_type": "stream",
          "name": "stdout",
          "text": [
            "Classification Report (No Scaling):\n",
            "              precision    recall  f1-score   support\n",
            "\n",
            "           0       0.00      0.00      0.00       1.0\n",
            "           1       0.00      0.00      0.00       1.0\n",
            "           2       0.00      0.00      0.00       1.0\n",
            "           3       0.00      0.00      0.00       1.0\n",
            "           4       0.00      0.00      0.00       1.0\n",
            "           5       0.00      0.00      0.00       1.0\n",
            "           6       0.00      0.00      0.00       1.0\n",
            "           7       0.00      0.00      0.00       1.0\n",
            "           8       0.00      0.00      0.00       1.0\n",
            "           9       0.00      0.00      0.00       1.0\n",
            "          10       0.00      0.00      0.00       1.0\n",
            "          11       0.00      0.00      0.00       1.0\n",
            "          12       0.00      0.00      0.00       1.0\n",
            "          13       0.00      0.00      0.00       1.0\n",
            "          14       0.00      0.00      0.00       1.0\n",
            "          15       0.00      0.00      0.00       1.0\n",
            "          16       0.00      0.00      0.00       1.0\n",
            "          17       0.00      0.00      0.00       1.0\n",
            "          18       0.00      0.00      0.00       1.0\n",
            "          19       0.00      0.00      0.00       1.0\n",
            "          21       0.00      0.00      0.00       0.0\n",
            "          29       0.00      0.00      0.00       0.0\n",
            "          31       0.00      0.00      0.00       0.0\n",
            "          42       0.00      0.00      0.00       0.0\n",
            "          47       0.00      0.00      0.00       0.0\n",
            "          59       0.00      0.00      0.00       0.0\n",
            "          61       0.00      0.00      0.00       0.0\n",
            "          62       0.00      0.00      0.00       0.0\n",
            "          71       0.00      0.00      0.00       0.0\n",
            "          75       0.00      0.00      0.00       0.0\n",
            "\n",
            "    accuracy                           0.00      20.0\n",
            "   macro avg       0.00      0.00      0.00      20.0\n",
            "weighted avg       0.00      0.00      0.00      20.0\n",
            "\n"
          ]
        },
        {
          "output_type": "stream",
          "name": "stderr",
          "text": [
            "/usr/local/lib/python3.10/dist-packages/sklearn/linear_model/_logistic.py:458: ConvergenceWarning: lbfgs failed to converge (status=1):\n",
            "STOP: TOTAL NO. of ITERATIONS REACHED LIMIT.\n",
            "\n",
            "Increase the number of iterations (max_iter) or scale the data as shown in:\n",
            "    https://scikit-learn.org/stable/modules/preprocessing.html\n",
            "Please also refer to the documentation for alternative solver options:\n",
            "    https://scikit-learn.org/stable/modules/linear_model.html#logistic-regression\n",
            "  n_iter_i = _check_optimize_result(\n",
            "/usr/local/lib/python3.10/dist-packages/sklearn/metrics/_classification.py:1344: UndefinedMetricWarning: Precision and F-score are ill-defined and being set to 0.0 in labels with no predicted samples. Use `zero_division` parameter to control this behavior.\n",
            "  _warn_prf(average, modifier, msg_start, len(result))\n",
            "/usr/local/lib/python3.10/dist-packages/sklearn/metrics/_classification.py:1344: UndefinedMetricWarning: Recall and F-score are ill-defined and being set to 0.0 in labels with no true samples. Use `zero_division` parameter to control this behavior.\n",
            "  _warn_prf(average, modifier, msg_start, len(result))\n",
            "/usr/local/lib/python3.10/dist-packages/sklearn/metrics/_classification.py:1344: UndefinedMetricWarning: Precision and F-score are ill-defined and being set to 0.0 in labels with no predicted samples. Use `zero_division` parameter to control this behavior.\n",
            "  _warn_prf(average, modifier, msg_start, len(result))\n",
            "/usr/local/lib/python3.10/dist-packages/sklearn/metrics/_classification.py:1344: UndefinedMetricWarning: Recall and F-score are ill-defined and being set to 0.0 in labels with no true samples. Use `zero_division` parameter to control this behavior.\n",
            "  _warn_prf(average, modifier, msg_start, len(result))\n",
            "/usr/local/lib/python3.10/dist-packages/sklearn/metrics/_classification.py:1344: UndefinedMetricWarning: Precision and F-score are ill-defined and being set to 0.0 in labels with no predicted samples. Use `zero_division` parameter to control this behavior.\n",
            "  _warn_prf(average, modifier, msg_start, len(result))\n",
            "/usr/local/lib/python3.10/dist-packages/sklearn/metrics/_classification.py:1344: UndefinedMetricWarning: Recall and F-score are ill-defined and being set to 0.0 in labels with no true samples. Use `zero_division` parameter to control this behavior.\n",
            "  _warn_prf(average, modifier, msg_start, len(result))\n"
          ]
        }
      ]
    },
    {
      "cell_type": "markdown",
      "source": [
        "10. Check if there is a change in the accuracy and other metrics (precision, recall) with and without deleting the outliers from the dataset."
      ],
      "metadata": {
        "id": "nIu21730KZPO"
      }
    },
    {
      "cell_type": "code",
      "source": [
        "outlier_indices = [33, 66, 70]  # Assuming these are the outlier indices\n",
        "X_train_no_outliers = np.delete(X_train, outlier_indices, axis=0)\n",
        "y_train_no_outliers = np.delete(y_train, outlier_indices, axis=0)\n",
        "model_no_outliers = LogisticRegression()\n",
        "model_no_outliers.fit(X_train_no_outliers, y_train_no_outliers_encoded)\n",
        "y_pred_no_outliers = model_no_outliers.predict(X_test)\n",
        "classification_report_no_outliers = classification_report(y_test_encoded, y_pred_no_outliers_encoded)\n",
        "print(\"Classification Report (No Outliers):\")\n",
        "print(classification_report_no_outliers)"
      ],
      "metadata": {
        "colab": {
          "base_uri": "https://localhost:8080/"
        },
        "id": "2O9WI2gHIUsh",
        "outputId": "83b195ab-b185-4ac5-9b43-4c9a480e8c37"
      },
      "execution_count": 41,
      "outputs": [
        {
          "output_type": "stream",
          "name": "stdout",
          "text": [
            "Classification Report (No Outliers):\n",
            "              precision    recall  f1-score   support\n",
            "\n",
            "           0       0.00      0.00      0.00       1.0\n",
            "           1       0.00      0.00      0.00       1.0\n",
            "           2       0.00      0.00      0.00       1.0\n",
            "           3       0.00      0.00      0.00       1.0\n",
            "           4       0.00      0.00      0.00       1.0\n",
            "           5       0.00      0.00      0.00       1.0\n",
            "           6       0.00      0.00      0.00       1.0\n",
            "           7       0.00      0.00      0.00       1.0\n",
            "           8       0.00      0.00      0.00       1.0\n",
            "           9       0.00      0.00      0.00       1.0\n",
            "          10       0.00      0.00      0.00       1.0\n",
            "          11       0.00      0.00      0.00       1.0\n",
            "          12       0.00      0.00      0.00       1.0\n",
            "          13       0.00      0.00      0.00       1.0\n",
            "          14       0.00      0.00      0.00       1.0\n",
            "          15       0.00      0.00      0.00       1.0\n",
            "          16       0.00      0.00      0.00       1.0\n",
            "          17       0.00      0.00      0.00       1.0\n",
            "          18       0.00      0.00      0.00       1.0\n",
            "          19       0.00      0.00      0.00       1.0\n",
            "\n",
            "    accuracy                           0.00      20.0\n",
            "   macro avg       0.00      0.00      0.00      20.0\n",
            "weighted avg       0.00      0.00      0.00      20.0\n",
            "\n"
          ]
        },
        {
          "output_type": "stream",
          "name": "stderr",
          "text": [
            "/usr/local/lib/python3.10/dist-packages/sklearn/linear_model/_logistic.py:458: ConvergenceWarning: lbfgs failed to converge (status=1):\n",
            "STOP: TOTAL NO. of ITERATIONS REACHED LIMIT.\n",
            "\n",
            "Increase the number of iterations (max_iter) or scale the data as shown in:\n",
            "    https://scikit-learn.org/stable/modules/preprocessing.html\n",
            "Please also refer to the documentation for alternative solver options:\n",
            "    https://scikit-learn.org/stable/modules/linear_model.html#logistic-regression\n",
            "  n_iter_i = _check_optimize_result(\n",
            "/usr/local/lib/python3.10/dist-packages/sklearn/metrics/_classification.py:1344: UndefinedMetricWarning: Precision and F-score are ill-defined and being set to 0.0 in labels with no predicted samples. Use `zero_division` parameter to control this behavior.\n",
            "  _warn_prf(average, modifier, msg_start, len(result))\n",
            "/usr/local/lib/python3.10/dist-packages/sklearn/metrics/_classification.py:1344: UndefinedMetricWarning: Precision and F-score are ill-defined and being set to 0.0 in labels with no predicted samples. Use `zero_division` parameter to control this behavior.\n",
            "  _warn_prf(average, modifier, msg_start, len(result))\n",
            "/usr/local/lib/python3.10/dist-packages/sklearn/metrics/_classification.py:1344: UndefinedMetricWarning: Precision and F-score are ill-defined and being set to 0.0 in labels with no predicted samples. Use `zero_division` parameter to control this behavior.\n",
            "  _warn_prf(average, modifier, msg_start, len(result))\n"
          ]
        }
      ]
    }
  ]
}